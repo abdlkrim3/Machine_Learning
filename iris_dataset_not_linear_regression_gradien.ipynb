{
  "nbformat": 4,
  "nbformat_minor": 0,
  "metadata": {
    "colab": {
      "provenance": [],
      "authorship_tag": "ABX9TyPSG8x8TiKYJVBvuN976C3C",
      "include_colab_link": true
    },
    "kernelspec": {
      "name": "python3",
      "display_name": "Python 3"
    },
    "language_info": {
      "name": "python"
    }
  },
  "cells": [
    {
      "cell_type": "markdown",
      "metadata": {
        "id": "view-in-github",
        "colab_type": "text"
      },
      "source": [
        "<a href=\"https://colab.research.google.com/github/abdlkrim3/Machine_Learning/blob/main/iris_dataset_not_linear_regression_gradien.ipynb\" target=\"_parent\"><img src=\"https://colab.research.google.com/assets/colab-badge.svg\" alt=\"Open In Colab\"/></a>"
      ]
    },
    {
      "cell_type": "markdown",
      "metadata": {
        "id": "952e8adb"
      },
      "source": [
        "# Regression Linéaire Simple du dataset Iris - Gradient Descent"
      ]
    },
    {
      "cell_type": "code",
      "execution_count": 83,
      "metadata": {
        "id": "4aaf4dbc"
      },
      "outputs": [],
      "source": [
        "import pandas as pd\n",
        "import numpy as np\n",
        "import seaborn as sns\n",
        "import matplotlib.pyplot as plt\n",
        "%matplotlib inline"
      ]
    },
    {
      "cell_type": "code",
      "source": [
        "!apt-get install -y git"
      ],
      "metadata": {
        "colab": {
          "base_uri": "https://localhost:8080/"
        },
        "id": "9LAMox6-6wNj",
        "outputId": "608e4bca-fa00-4d34-fc5b-d1a74aa16740"
      },
      "execution_count": 84,
      "outputs": [
        {
          "output_type": "stream",
          "name": "stdout",
          "text": [
            "Reading package lists... Done\n",
            "Building dependency tree       \n",
            "Reading state information... Done\n",
            "git is already the newest version (1:2.25.1-1ubuntu3.10).\n",
            "0 upgraded, 0 newly installed, 0 to remove and 24 not upgraded.\n"
          ]
        }
      ]
    },
    {
      "cell_type": "code",
      "source": [
        "!git clone https://github.com/abdlkrim3/Machine_Learning.git"
      ],
      "metadata": {
        "colab": {
          "base_uri": "https://localhost:8080/"
        },
        "id": "wZimPg_163yJ",
        "outputId": "4035e622-d984-4861-e721-e9fc43fcb03d"
      },
      "execution_count": 85,
      "outputs": [
        {
          "output_type": "stream",
          "name": "stdout",
          "text": [
            "fatal: destination path 'Machine_Learning' already exists and is not an empty directory.\n"
          ]
        }
      ]
    },
    {
      "cell_type": "markdown",
      "metadata": {
        "id": "52aab10c"
      },
      "source": [
        "## 1. Dataset\n",
        "Chargement du dataset Iris pour effectuer les prédictions de la largeur des pétales en fonction de longueur des pétales"
      ]
    },
    {
      "cell_type": "code",
      "execution_count": 86,
      "metadata": {
        "id": "fd4ad33b"
      },
      "outputs": [],
      "source": [
        "dataset=pd.read_csv(\"./Machine_Learning/iris.csv\")"
      ]
    },
    {
      "cell_type": "code",
      "execution_count": 87,
      "metadata": {
        "colab": {
          "base_uri": "https://localhost:8080/",
          "height": 206
        },
        "id": "b1933fdf",
        "outputId": "bf6c89c1-b1c0-42f4-f151-defd5c36bf70"
      },
      "outputs": [
        {
          "output_type": "execute_result",
          "data": {
            "text/plain": [
              "   sepal_length  sepal_width  petal_length  petal_width        class\n",
              "0           5.1          3.5           1.4          0.2  Iris-setosa\n",
              "1           4.9          3.0           1.4          0.2  Iris-setosa\n",
              "2           4.7          3.2           1.3          0.2  Iris-setosa\n",
              "3           4.6          3.1           1.5          0.2  Iris-setosa\n",
              "4           5.0          3.6           1.4          0.2  Iris-setosa"
            ],
            "text/html": [
              "\n",
              "  <div id=\"df-db58d7f4-94fc-40c6-92a7-809414825c1c\">\n",
              "    <div class=\"colab-df-container\">\n",
              "      <div>\n",
              "<style scoped>\n",
              "    .dataframe tbody tr th:only-of-type {\n",
              "        vertical-align: middle;\n",
              "    }\n",
              "\n",
              "    .dataframe tbody tr th {\n",
              "        vertical-align: top;\n",
              "    }\n",
              "\n",
              "    .dataframe thead th {\n",
              "        text-align: right;\n",
              "    }\n",
              "</style>\n",
              "<table border=\"1\" class=\"dataframe\">\n",
              "  <thead>\n",
              "    <tr style=\"text-align: right;\">\n",
              "      <th></th>\n",
              "      <th>sepal_length</th>\n",
              "      <th>sepal_width</th>\n",
              "      <th>petal_length</th>\n",
              "      <th>petal_width</th>\n",
              "      <th>class</th>\n",
              "    </tr>\n",
              "  </thead>\n",
              "  <tbody>\n",
              "    <tr>\n",
              "      <th>0</th>\n",
              "      <td>5.1</td>\n",
              "      <td>3.5</td>\n",
              "      <td>1.4</td>\n",
              "      <td>0.2</td>\n",
              "      <td>Iris-setosa</td>\n",
              "    </tr>\n",
              "    <tr>\n",
              "      <th>1</th>\n",
              "      <td>4.9</td>\n",
              "      <td>3.0</td>\n",
              "      <td>1.4</td>\n",
              "      <td>0.2</td>\n",
              "      <td>Iris-setosa</td>\n",
              "    </tr>\n",
              "    <tr>\n",
              "      <th>2</th>\n",
              "      <td>4.7</td>\n",
              "      <td>3.2</td>\n",
              "      <td>1.3</td>\n",
              "      <td>0.2</td>\n",
              "      <td>Iris-setosa</td>\n",
              "    </tr>\n",
              "    <tr>\n",
              "      <th>3</th>\n",
              "      <td>4.6</td>\n",
              "      <td>3.1</td>\n",
              "      <td>1.5</td>\n",
              "      <td>0.2</td>\n",
              "      <td>Iris-setosa</td>\n",
              "    </tr>\n",
              "    <tr>\n",
              "      <th>4</th>\n",
              "      <td>5.0</td>\n",
              "      <td>3.6</td>\n",
              "      <td>1.4</td>\n",
              "      <td>0.2</td>\n",
              "      <td>Iris-setosa</td>\n",
              "    </tr>\n",
              "  </tbody>\n",
              "</table>\n",
              "</div>\n",
              "      <button class=\"colab-df-convert\" onclick=\"convertToInteractive('df-db58d7f4-94fc-40c6-92a7-809414825c1c')\"\n",
              "              title=\"Convert this dataframe to an interactive table.\"\n",
              "              style=\"display:none;\">\n",
              "        \n",
              "  <svg xmlns=\"http://www.w3.org/2000/svg\" height=\"24px\"viewBox=\"0 0 24 24\"\n",
              "       width=\"24px\">\n",
              "    <path d=\"M0 0h24v24H0V0z\" fill=\"none\"/>\n",
              "    <path d=\"M18.56 5.44l.94 2.06.94-2.06 2.06-.94-2.06-.94-.94-2.06-.94 2.06-2.06.94zm-11 1L8.5 8.5l.94-2.06 2.06-.94-2.06-.94L8.5 2.5l-.94 2.06-2.06.94zm10 10l.94 2.06.94-2.06 2.06-.94-2.06-.94-.94-2.06-.94 2.06-2.06.94z\"/><path d=\"M17.41 7.96l-1.37-1.37c-.4-.4-.92-.59-1.43-.59-.52 0-1.04.2-1.43.59L10.3 9.45l-7.72 7.72c-.78.78-.78 2.05 0 2.83L4 21.41c.39.39.9.59 1.41.59.51 0 1.02-.2 1.41-.59l7.78-7.78 2.81-2.81c.8-.78.8-2.07 0-2.86zM5.41 20L4 18.59l7.72-7.72 1.47 1.35L5.41 20z\"/>\n",
              "  </svg>\n",
              "      </button>\n",
              "      \n",
              "  <style>\n",
              "    .colab-df-container {\n",
              "      display:flex;\n",
              "      flex-wrap:wrap;\n",
              "      gap: 12px;\n",
              "    }\n",
              "\n",
              "    .colab-df-convert {\n",
              "      background-color: #E8F0FE;\n",
              "      border: none;\n",
              "      border-radius: 50%;\n",
              "      cursor: pointer;\n",
              "      display: none;\n",
              "      fill: #1967D2;\n",
              "      height: 32px;\n",
              "      padding: 0 0 0 0;\n",
              "      width: 32px;\n",
              "    }\n",
              "\n",
              "    .colab-df-convert:hover {\n",
              "      background-color: #E2EBFA;\n",
              "      box-shadow: 0px 1px 2px rgba(60, 64, 67, 0.3), 0px 1px 3px 1px rgba(60, 64, 67, 0.15);\n",
              "      fill: #174EA6;\n",
              "    }\n",
              "\n",
              "    [theme=dark] .colab-df-convert {\n",
              "      background-color: #3B4455;\n",
              "      fill: #D2E3FC;\n",
              "    }\n",
              "\n",
              "    [theme=dark] .colab-df-convert:hover {\n",
              "      background-color: #434B5C;\n",
              "      box-shadow: 0px 1px 3px 1px rgba(0, 0, 0, 0.15);\n",
              "      filter: drop-shadow(0px 1px 2px rgba(0, 0, 0, 0.3));\n",
              "      fill: #FFFFFF;\n",
              "    }\n",
              "  </style>\n",
              "\n",
              "      <script>\n",
              "        const buttonEl =\n",
              "          document.querySelector('#df-db58d7f4-94fc-40c6-92a7-809414825c1c button.colab-df-convert');\n",
              "        buttonEl.style.display =\n",
              "          google.colab.kernel.accessAllowed ? 'block' : 'none';\n",
              "\n",
              "        async function convertToInteractive(key) {\n",
              "          const element = document.querySelector('#df-db58d7f4-94fc-40c6-92a7-809414825c1c');\n",
              "          const dataTable =\n",
              "            await google.colab.kernel.invokeFunction('convertToInteractive',\n",
              "                                                     [key], {});\n",
              "          if (!dataTable) return;\n",
              "\n",
              "          const docLinkHtml = 'Like what you see? Visit the ' +\n",
              "            '<a target=\"_blank\" href=https://colab.research.google.com/notebooks/data_table.ipynb>data table notebook</a>'\n",
              "            + ' to learn more about interactive tables.';\n",
              "          element.innerHTML = '';\n",
              "          dataTable['output_type'] = 'display_data';\n",
              "          await google.colab.output.renderOutput(dataTable, element);\n",
              "          const docLink = document.createElement('div');\n",
              "          docLink.innerHTML = docLinkHtml;\n",
              "          element.appendChild(docLink);\n",
              "        }\n",
              "      </script>\n",
              "    </div>\n",
              "  </div>\n",
              "  "
            ]
          },
          "metadata": {},
          "execution_count": 87
        }
      ],
      "source": [
        "dataset.head()"
      ]
    },
    {
      "cell_type": "code",
      "source": [
        "plt.figure()\n",
        "sns.heatmap(dataset.corr(),annot=True)\n",
        "plt.show()"
      ],
      "metadata": {
        "colab": {
          "base_uri": "https://localhost:8080/",
          "height": 491
        },
        "id": "C9xO9oRyDTiq",
        "outputId": "e4734e7d-11ac-4e94-d026-9c5ce3ae25bf"
      },
      "execution_count": 88,
      "outputs": [
        {
          "output_type": "stream",
          "name": "stderr",
          "text": [
            "<ipython-input-88-ff7724e0fe5e>:2: FutureWarning: The default value of numeric_only in DataFrame.corr is deprecated. In a future version, it will default to False. Select only valid columns or specify the value of numeric_only to silence this warning.\n",
            "  sns.heatmap(dataset.corr(),annot=True)\n"
          ]
        },
        {
          "output_type": "display_data",
          "data": {
            "text/plain": [
              "<Figure size 640x480 with 2 Axes>"
            ],
            "image/png": "[encoded data removed]"
          },
          "metadata": {}
        }
      ]
    },
    {
      "cell_type": "code",
      "source": [
        "plt.plot(dataset[\"petal_length\"],dataset[\"sepal_width\"],'o')\n",
        "plt.xlabel('petal_length')\n",
        "plt.ylabel('sepal_lenght')\n",
        "plt.show()"
      ],
      "metadata": {
        "colab": {
          "base_uri": "https://localhost:8080/",
          "height": 452
        },
        "id": "yCOrM9C-Iy5A",
        "outputId": "cdd7001a-6c28-4193-a6d8-53958699d65b"
      },
      "execution_count": 89,
      "outputs": [
        {
          "output_type": "display_data",
          "data": {
            "text/plain": [
              "<Figure size 640x480 with 1 Axes>"
            ],
            "image/png": "[encoded data removed]"
          },
          "metadata": {}
        }
      ]
    },
    {
      "cell_type": "code",
      "execution_count": 90,
      "metadata": {
        "colab": {
          "base_uri": "https://localhost:8080/",
          "height": 423
        },
        "id": "dc5a27ae",
        "outputId": "775a625d-909f-419a-b9c0-2803b2402d52"
      },
      "outputs": [
        {
          "output_type": "execute_result",
          "data": {
            "text/plain": [
              "     petal_length  sepal_width\n",
              "0             1.4          3.5\n",
              "1             1.4          3.0\n",
              "2             1.3          3.2\n",
              "3             1.5          3.1\n",
              "4             1.4          3.6\n",
              "..            ...          ...\n",
              "145           5.2          3.0\n",
              "146           5.0          2.5\n",
              "147           5.2          3.0\n",
              "148           5.4          3.4\n",
              "149           5.1          3.0\n",
              "\n",
              "[150 rows x 2 columns]"
            ],
            "text/html": [
              "\n",
              "  <div id=\"df-a066f9db-e944-4cca-8762-630511b43509\">\n",
              "    <div class=\"colab-df-container\">\n",
              "      <div>\n",
              "<style scoped>\n",
              "    .dataframe tbody tr th:only-of-type {\n",
              "        vertical-align: middle;\n",
              "    }\n",
              "\n",
              "    .dataframe tbody tr th {\n",
              "        vertical-align: top;\n",
              "    }\n",
              "\n",
              "    .dataframe thead th {\n",
              "        text-align: right;\n",
              "    }\n",
              "</style>\n",
              "<table border=\"1\" class=\"dataframe\">\n",
              "  <thead>\n",
              "    <tr style=\"text-align: right;\">\n",
              "      <th></th>\n",
              "      <th>petal_length</th>\n",
              "      <th>sepal_width</th>\n",
              "    </tr>\n",
              "  </thead>\n",
              "  <tbody>\n",
              "    <tr>\n",
              "      <th>0</th>\n",
              "      <td>1.4</td>\n",
              "      <td>3.5</td>\n",
              "    </tr>\n",
              "    <tr>\n",
              "      <th>1</th>\n",
              "      <td>1.4</td>\n",
              "      <td>3.0</td>\n",
              "    </tr>\n",
              "    <tr>\n",
              "      <th>2</th>\n",
              "      <td>1.3</td>\n",
              "      <td>3.2</td>\n",
              "    </tr>\n",
              "    <tr>\n",
              "      <th>3</th>\n",
              "      <td>1.5</td>\n",
              "      <td>3.1</td>\n",
              "    </tr>\n",
              "    <tr>\n",
              "      <th>4</th>\n",
              "      <td>1.4</td>\n",
              "      <td>3.6</td>\n",
              "    </tr>\n",
              "    <tr>\n",
              "      <th>...</th>\n",
              "      <td>...</td>\n",
              "      <td>...</td>\n",
              "    </tr>\n",
              "    <tr>\n",
              "      <th>145</th>\n",
              "      <td>5.2</td>\n",
              "      <td>3.0</td>\n",
              "    </tr>\n",
              "    <tr>\n",
              "      <th>146</th>\n",
              "      <td>5.0</td>\n",
              "      <td>2.5</td>\n",
              "    </tr>\n",
              "    <tr>\n",
              "      <th>147</th>\n",
              "      <td>5.2</td>\n",
              "      <td>3.0</td>\n",
              "    </tr>\n",
              "    <tr>\n",
              "      <th>148</th>\n",
              "      <td>5.4</td>\n",
              "      <td>3.4</td>\n",
              "    </tr>\n",
              "    <tr>\n",
              "      <th>149</th>\n",
              "      <td>5.1</td>\n",
              "      <td>3.0</td>\n",
              "    </tr>\n",
              "  </tbody>\n",
              "</table>\n",
              "<p>150 rows × 2 columns</p>\n",
              "</div>\n",
              "      <button class=\"colab-df-convert\" onclick=\"convertToInteractive('df-a066f9db-e944-4cca-8762-630511b43509')\"\n",
              "              title=\"Convert this dataframe to an interactive table.\"\n",
              "              style=\"display:none;\">\n",
              "        \n",
              "  <svg xmlns=\"http://www.w3.org/2000/svg\" height=\"24px\"viewBox=\"0 0 24 24\"\n",
              "       width=\"24px\">\n",
              "    <path d=\"M0 0h24v24H0V0z\" fill=\"none\"/>\n",
              "    <path d=\"M18.56 5.44l.94 2.06.94-2.06 2.06-.94-2.06-.94-.94-2.06-.94 2.06-2.06.94zm-11 1L8.5 8.5l.94-2.06 2.06-.94-2.06-.94L8.5 2.5l-.94 2.06-2.06.94zm10 10l.94 2.06.94-2.06 2.06-.94-2.06-.94-.94-2.06-.94 2.06-2.06.94z\"/><path d=\"M17.41 7.96l-1.37-1.37c-.4-.4-.92-.59-1.43-.59-.52 0-1.04.2-1.43.59L10.3 9.45l-7.72 7.72c-.78.78-.78 2.05 0 2.83L4 21.41c.39.39.9.59 1.41.59.51 0 1.02-.2 1.41-.59l7.78-7.78 2.81-2.81c.8-.78.8-2.07 0-2.86zM5.41 20L4 18.59l7.72-7.72 1.47 1.35L5.41 20z\"/>\n",
              "  </svg>\n",
              "      </button>\n",
              "      \n",
              "  <style>\n",
              "    .colab-df-container {\n",
              "      display:flex;\n",
              "      flex-wrap:wrap;\n",
              "      gap: 12px;\n",
              "    }\n",
              "\n",
              "    .colab-df-convert {\n",
              "      background-color: #E8F0FE;\n",
              "      border: none;\n",
              "      border-radius: 50%;\n",
              "      cursor: pointer;\n",
              "      display: none;\n",
              "      fill: #1967D2;\n",
              "      height: 32px;\n",
              "      padding: 0 0 0 0;\n",
              "      width: 32px;\n",
              "    }\n",
              "\n",
              "    .colab-df-convert:hover {\n",
              "      background-color: #E2EBFA;\n",
              "      box-shadow: 0px 1px 2px rgba(60, 64, 67, 0.3), 0px 1px 3px 1px rgba(60, 64, 67, 0.15);\n",
              "      fill: #174EA6;\n",
              "    }\n",
              "\n",
              "    [theme=dark] .colab-df-convert {\n",
              "      background-color: #3B4455;\n",
              "      fill: #D2E3FC;\n",
              "    }\n",
              "\n",
              "    [theme=dark] .colab-df-convert:hover {\n",
              "      background-color: #434B5C;\n",
              "      box-shadow: 0px 1px 3px 1px rgba(0, 0, 0, 0.15);\n",
              "      filter: drop-shadow(0px 1px 2px rgba(0, 0, 0, 0.3));\n",
              "      fill: #FFFFFF;\n",
              "    }\n",
              "  </style>\n",
              "\n",
              "      <script>\n",
              "        const buttonEl =\n",
              "          document.querySelector('#df-a066f9db-e944-4cca-8762-630511b43509 button.colab-df-convert');\n",
              "        buttonEl.style.display =\n",
              "          google.colab.kernel.accessAllowed ? 'block' : 'none';\n",
              "\n",
              "        async function convertToInteractive(key) {\n",
              "          const element = document.querySelector('#df-a066f9db-e944-4cca-8762-630511b43509');\n",
              "          const dataTable =\n",
              "            await google.colab.kernel.invokeFunction('convertToInteractive',\n",
              "                                                     [key], {});\n",
              "          if (!dataTable) return;\n",
              "\n",
              "          const docLinkHtml = 'Like what you see? Visit the ' +\n",
              "            '<a target=\"_blank\" href=https://colab.research.google.com/notebooks/data_table.ipynb>data table notebook</a>'\n",
              "            + ' to learn more about interactive tables.';\n",
              "          element.innerHTML = '';\n",
              "          dataTable['output_type'] = 'display_data';\n",
              "          await google.colab.output.renderOutput(dataTable, element);\n",
              "          const docLink = document.createElement('div');\n",
              "          docLink.innerHTML = docLinkHtml;\n",
              "          element.appendChild(docLink);\n",
              "        }\n",
              "      </script>\n",
              "    </div>\n",
              "  </div>\n",
              "  "
            ]
          },
          "metadata": {},
          "execution_count": 90
        }
      ],
      "source": [
        "df=dataset[['petal_length','sepal_width']]\n",
        "df"
      ]
    },
    {
      "cell_type": "code",
      "execution_count": 91,
      "metadata": {
        "id": "b5c2d3ff"
      },
      "outputs": [],
      "source": [
        "\n",
        "x=dataset.petal_length\n",
        "y=dataset.sepal_width"
      ]
    },
    {
      "cell_type": "code",
      "execution_count": 91,
      "metadata": {
        "id": "946c2c7e"
      },
      "outputs": [],
      "source": []
    },
    {
      "cell_type": "code",
      "execution_count": 92,
      "metadata": {
        "colab": {
          "base_uri": "https://localhost:8080/"
        },
        "id": "53cf6861",
        "outputId": "d150e47d-36b5-4c31-844e-d30047a6dc14"
      },
      "outputs": [
        {
          "output_type": "execute_result",
          "data": {
            "text/plain": [
              "(150,)"
            ]
          },
          "metadata": {},
          "execution_count": 92
        }
      ],
      "source": [
        "x.shape"
      ]
    },
    {
      "cell_type": "code",
      "execution_count": 93,
      "metadata": {
        "colab": {
          "base_uri": "https://localhost:8080/"
        },
        "id": "df2012da",
        "outputId": "dc18de10-bfa3-43ca-9974-f79842f033dc"
      },
      "outputs": [
        {
          "output_type": "execute_result",
          "data": {
            "text/plain": [
              "0      3.5\n",
              "1      3.0\n",
              "2      3.2\n",
              "3      3.1\n",
              "4      3.6\n",
              "      ... \n",
              "145    3.0\n",
              "146    2.5\n",
              "147    3.0\n",
              "148    3.4\n",
              "149    3.0\n",
              "Name: sepal_width, Length: 150, dtype: float64"
            ]
          },
          "metadata": {},
          "execution_count": 93
        }
      ],
      "source": [
        "y"
      ]
    },
    {
      "cell_type": "code",
      "execution_count": 94,
      "metadata": {
        "colab": {
          "base_uri": "https://localhost:8080/"
        },
        "id": "96f1cead",
        "outputId": "81cb97fc-83ef-4e60-f5f4-517565ace0c8"
      },
      "outputs": [
        {
          "output_type": "execute_result",
          "data": {
            "text/plain": [
              "(150,)"
            ]
          },
          "metadata": {},
          "execution_count": 94
        }
      ],
      "source": [
        "y.shape"
      ]
    },
    {
      "cell_type": "markdown",
      "metadata": {
        "id": "107cf286"
      },
      "source": [
        "Important: Après avoir vérifié les dimensions de x et y, On remarque que y n'a pas les dimensions (150, 1) et x n'a pas les dimensions (150,2). On corrige le problème avec np.reshape et values."
      ]
    },
    {
      "cell_type": "code",
      "execution_count": 95,
      "metadata": {
        "colab": {
          "base_uri": "https://localhost:8080/"
        },
        "id": "0cda34fb",
        "outputId": "59e0ddd9-f732-40fb-c6d1-53d68f4644f7"
      },
      "outputs": [
        {
          "output_type": "execute_result",
          "data": {
            "text/plain": [
              "array([1.4, 1.4, 1.3, 1.5, 1.4, 1.7, 1.4, 1.5, 1.4, 1.5, 1.5, 1.6, 1.4,\n",
              "       1.1, 1.2, 1.5, 1.3, 1.4, 1.7, 1.5, 1.7, 1.5, 1. , 1.7, 1.9, 1.6,\n",
              "       1.6, 1.5, 1.4, 1.6, 1.6, 1.5, 1.5, 1.4, 1.5, 1.2, 1.3, 1.5, 1.3,\n",
              "       1.5, 1.3, 1.3, 1.3, 1.6, 1.9, 1.4, 1.6, 1.4, 1.5, 1.4, 4.7, 4.5,\n",
              "       4.9, 4. , 4.6, 4.5, 4.7, 3.3, 4.6, 3.9, 3.5, 4.2, 4. , 4.7, 3.6,\n",
              "       4.4, 4.5, 4.1, 4.5, 3.9, 4.8, 4. , 4.9, 4.7, 4.3, 4.4, 4.8, 5. ,\n",
              "       4.5, 3.5, 3.8, 3.7, 3.9, 5.1, 4.5, 4.5, 4.7, 4.4, 4.1, 4. , 4.4,\n",
              "       4.6, 4. , 3.3, 4.2, 4.2, 4.2, 4.3, 3. , 4.1, 6. , 5.1, 5.9, 5.6,\n",
              "       5.8, 6.6, 4.5, 6.3, 5.8, 6.1, 5.1, 5.3, 5.5, 5. , 5.1, 5.3, 5.5,\n",
              "       6.7, 6.9, 5. , 5.7, 4.9, 6.7, 4.9, 5.7, 6. , 4.8, 4.9, 5.6, 5.8,\n",
              "       6.1, 6.4, 5.6, 5.1, 5.6, 6.1, 5.6, 5.5, 4.8, 5.4, 5.6, 5.1, 5.1,\n",
              "       5.9, 5.7, 5.2, 5. , 5.2, 5.4, 5.1])"
            ]
          },
          "metadata": {},
          "execution_count": 95
        }
      ],
      "source": [
        "X=dataset.petal_length.values\n",
        "Y=dataset.sepal_width.values\n",
        "\n",
        "X\n"
      ]
    },
    {
      "cell_type": "code",
      "execution_count": 96,
      "metadata": {
        "colab": {
          "base_uri": "https://localhost:8080/"
        },
        "id": "a111c214",
        "outputId": "79688fd7-c849-4c39-fff3-8e3fe025b278"
      },
      "outputs": [
        {
          "output_type": "execute_result",
          "data": {
            "text/plain": [
              "(150,)"
            ]
          },
          "metadata": {},
          "execution_count": 96
        }
      ],
      "source": [
        "X.shape"
      ]
    },
    {
      "cell_type": "code",
      "execution_count": 97,
      "metadata": {
        "id": "eb4f57d7"
      },
      "outputs": [],
      "source": [
        "x=dataset.petal_length.values.reshape(150,1)\n",
        "y=dataset.sepal_width.values.reshape(150,1)\n",
        "#x=dataset.sepal_length.values.reshape(150,1)\n",
        "#y=dataset.petal_length.values.reshape(150,1)\n",
        "#x=dataset.sepal_length.values.reshape(150,1)\n",
        "#y=dataset.petal_width.values.reshape(150,1)"
      ]
    },
    {
      "cell_type": "code",
      "execution_count": 98,
      "metadata": {
        "colab": {
          "base_uri": "https://localhost:8080/"
        },
        "id": "0594ec56",
        "outputId": "6123080c-0b12-4abd-d5a1-27767f8da9a7"
      },
      "outputs": [
        {
          "output_type": "stream",
          "name": "stdout",
          "text": [
            "(150, 1)\n",
            "(150, 1)\n"
          ]
        }
      ],
      "source": [
        "print(x.shape)\n",
        "print(y.shape)"
      ]
    },
    {
      "cell_type": "markdown",
      "metadata": {
        "id": "187f5058"
      },
      "source": [
        "Création de la matrice X qui contient la colonne de Biais. Pour ca, on colle l'un contre l'autre le vecteur x et un vecteur 1 (avec np.ones) de dimension égale a celle de x"
      ]
    },
    {
      "cell_type": "code",
      "execution_count": 99,
      "metadata": {
        "id": "e8b25651",
        "colab": {
          "base_uri": "https://localhost:8080/"
        },
        "outputId": "ef622cf4-6373-4210-c0f4-9cadea5780dd"
      },
      "outputs": [
        {
          "output_type": "stream",
          "name": "stdout",
          "text": [
            "(150, 3)\n",
            "[[1.96 1.4  1.  ]\n",
            " [1.96 1.4  1.  ]\n",
            " [1.69 1.3  1.  ]\n",
            " [2.25 1.5  1.  ]\n",
            " [1.96 1.4  1.  ]\n",
            " [2.89 1.7  1.  ]\n",
            " [1.96 1.4  1.  ]\n",
            " [2.25 1.5  1.  ]\n",
            " [1.96 1.4  1.  ]\n",
            " [2.25 1.5  1.  ]]\n"
          ]
        }
      ],
      "source": [
        "# Création de la matrice X, inclut le Biais\n",
        "X = np.hstack((x, np.ones(x.shape)))\n",
        "X = np.hstack((x**2, X)) # ajoute le vecteur x^2 a la gauche de la matrice X\n",
        "\n",
        "print(X.shape)\n",
        "print(X[:10])"
      ]
    },
    {
      "cell_type": "code",
      "execution_count": 100,
      "metadata": {
        "colab": {
          "base_uri": "https://localhost:8080/"
        },
        "id": "d1c71f2d",
        "outputId": "55095eef-125f-42cf-b626-2d9ed8abece5"
      },
      "outputs": [
        {
          "output_type": "execute_result",
          "data": {
            "text/plain": [
              "(150, 3)"
            ]
          },
          "metadata": {},
          "execution_count": 100
        }
      ],
      "source": [
        "X.shape"
      ]
    },
    {
      "cell_type": "markdown",
      "metadata": {
        "id": "1f5703e5"
      },
      "source": [
        "Finalement, création d'un vecteur parametre θ, initialisé avec des coefficients aléatoires. Ce vecteur est de dimension (2, 1). Si on désire toujours reproduire le meme vecteur \n",
        "θ, on utilise comme avant np.random.seed(0)"
      ]
    },
    {
      "cell_type": "code",
      "execution_count": 101,
      "metadata": {
        "colab": {
          "base_uri": "https://localhost:8080/"
        },
        "id": "e45f2b9a",
        "outputId": "36305b5d-9145-4d55-c8c6-d12b01e17011"
      },
      "outputs": [
        {
          "output_type": "stream",
          "name": "stdout",
          "text": [
            "Theta: [[1.76405235]\n",
            " [0.40015721]\n",
            " [0.97873798]]\n"
          ]
        }
      ],
      "source": [
        "np.random.seed(0) # pour produire toujours le meme vecteur theta aléatoire\n",
        "theta=np.random.randn(3,1)\n",
        "print('Theta:',theta)"
      ]
    },
    {
      "cell_type": "markdown",
      "metadata": {
        "id": "41a0e7d5"
      },
      "source": [
        "## 2. Modèle Linéaire\n",
        "On implémente un modèle selon l'équation matricielle F=X.θ et puis on teste le modèle initiale défini par la valeur initiale de θ qu'on a initialisé d'une manière aléatoire.\n"
      ]
    },
    {
      "cell_type": "code",
      "execution_count": 102,
      "metadata": {
        "id": "bc06c159"
      },
      "outputs": [],
      "source": [
        "def model(X, theta):\n",
        "    return X.dot(theta)"
      ]
    },
    {
      "cell_type": "code",
      "execution_count": 103,
      "metadata": {
        "colab": {
          "base_uri": "https://localhost:8080/",
          "height": 450
        },
        "id": "0e86cdd4",
        "outputId": "876eca39-b681-48bc-ffea-cc0c770310b4"
      },
      "outputs": [
        {
          "output_type": "display_data",
          "data": {
            "text/plain": [
              "<Figure size 640x480 with 1 Axes>"
            ],
            "image/png": "[encoded data removed]"
          },
          "metadata": {}
        }
      ],
      "source": [
        "plt.plot(x,y,'o',label='dataset')\n",
        "plt.plot(x, model(X, theta), c='r',label='modèle initial')\n",
        "plt.xlabel('petal_length')\n",
        "plt.ylabel('sepal_width')\n",
        "plt.legend()\n",
        "plt.show()"
      ]
    },
    {
      "cell_type": "markdown",
      "metadata": {
        "id": "4f8ef408"
      },
      "source": [
        "## 3. Fonction coût : Erreur Quadratique Moyenne\n",
        "On mesure les erreurs du modele sur le Dataset X, y en implémenterl'erreur quadratique moyenne, Mean Squared Error (MSE) en anglais.\n",
        "![Capture%20d'%C3%A9cran%202023-04-04%20113116.png](attachment:Capture%20d'%C3%A9cran%202023-04-04%20113116.png)\n",
        "\n",
        "Ensuite, on teste notre fonction, pour voir s'il n'y a pas de bug"
      ]
    },
    {
      "cell_type": "code",
      "execution_count": 104,
      "metadata": {
        "id": "3bfb4285"
      },
      "outputs": [],
      "source": [
        "def cost_function(X, y, theta):\n",
        "    m = len(y)\n",
        "    return 1/(2*m) * np.sum((model(X, theta) - y)**2)"
      ]
    },
    {
      "cell_type": "code",
      "execution_count": 105,
      "metadata": {
        "colab": {
          "base_uri": "https://localhost:8080/"
        },
        "id": "ec4ef451",
        "outputId": "c5f12e93-c647-48ca-989f-2642159da046"
      },
      "outputs": [
        {
          "output_type": "execute_result",
          "data": {
            "text/plain": [
              "709.5690601663018"
            ]
          },
          "metadata": {},
          "execution_count": 105
        }
      ],
      "source": [
        "cost_function(X, y, theta)"
      ]
    },
    {
      "cell_type": "markdown",
      "metadata": {
        "id": "e1af8e71"
      },
      "source": [
        "## 4. Gradients et Descente de Gradient\n",
        "On implémente la formule du gradient pour la MSE\n",
        "![grad.png](attachment:grad.png)\n",
        "Ensuite on utilise cette fonction dans la descente de gradient:\n",
        "\n"
      ]
    },
    {
      "cell_type": "markdown",
      "metadata": {
        "id": "527094e1"
      },
      "source": [
        "![Capture%20d'%C3%A9cran%202023-04-04%20114408.png](attachment:Capture%20d'%C3%A9cran%202023-04-04%20114408.png)"
      ]
    },
    {
      "cell_type": "code",
      "execution_count": 106,
      "metadata": {
        "id": "bc48ccbb"
      },
      "outputs": [],
      "source": [
        "def grad(X, y, theta):\n",
        "    m = len(y)\n",
        "    return 1/m * X.T.dot(model(X, theta) - y)"
      ]
    },
    {
      "cell_type": "code",
      "execution_count": 114,
      "metadata": {
        "id": "dcda7267"
      },
      "outputs": [],
      "source": [
        "def gradient_descent(X, y, theta, learning_rate, n_iterations):\n",
        "    \n",
        "    cost_history = np.zeros(n_iterations) # création d'un tableau de stockage pour enregistrer l'évolution du Cout du modele\n",
        "    \n",
        "    for i in range(0, n_iterations):\n",
        "        theta = theta - learning_rate * grad(X, y, theta) # mise a jour du parametre theta (formule du gradient descent)\n",
        "        cost_history[i] = cost_function(X, y, theta) # on enregistre la valeur du Cout au tour i dans cost_history[i]\n",
        "        \n",
        "    return theta, cost_history"
      ]
    },
    {
      "cell_type": "markdown",
      "metadata": {
        "id": "42add5a3"
      },
      "source": [
        "## 5. Phase d'entrainement\n",
        "On définit un nombre d'itérations, ainsi qu'un pas d'apprentissage α. Une fois le modele entrainé, on observe les resultats par rapport a notre Dataset"
      ]
    },
    {
      "cell_type": "code",
      "execution_count": 116,
      "metadata": {
        "id": "1b30eb6b",
        "colab": {
          "base_uri": "https://localhost:8080/"
        },
        "outputId": "bab97de7-aa01-4e0d-e1ab-a5442a629940"
      },
      "outputs": [
        {
          "output_type": "stream",
          "name": "stderr",
          "text": [
            "<ipython-input-104-7ee97a77a0fc>:3: RuntimeWarning: overflow encountered in square\n",
            "  return 1/(2*m) * np.sum((model(X, theta) - y)**2)\n",
            "<ipython-input-114-f62e5424b3df>:6: RuntimeWarning: invalid value encountered in subtract\n",
            "  theta = theta - learning_rate * grad(X, y, theta) # mise a jour du parametre theta (formule du gradient descent)\n"
          ]
        }
      ],
      "source": [
        "n_iterations = 1000\n",
        "learning_rate = 0.01\n",
        "\n",
        "theta_final, cost_history = gradient_descent(X, y, theta, learning_rate, n_iterations)"
      ]
    },
    {
      "cell_type": "code",
      "execution_count": 115,
      "metadata": {
        "colab": {
          "base_uri": "https://localhost:8080/"
        },
        "id": "ed0729ba",
        "outputId": "1ea553b9-b41b-489a-fa83-f262ecb2d758"
      },
      "outputs": [
        {
          "output_type": "execute_result",
          "data": {
            "text/plain": [
              "array([9.80611331e+003, 1.35676305e+005, 1.87735769e+006, 2.59772155e+007,\n",
              "       3.59449887e+008, 4.97375190e+009, 6.88224114e+010, 9.52304097e+011,\n",
              "       1.31771479e+013, 1.82333802e+014, 2.52297505e+015, 3.49107133e+016,\n",
              "       4.83063797e+017, 6.68421265e+018, 9.24902654e+019, 1.27979908e+021,\n",
              "       1.77087359e+022, 2.45037937e+023, 3.39061981e+024, 4.69164197e+025,\n",
              "       6.49188220e+026, 8.98289655e+027, 1.24297435e+029, 1.71991876e+030,\n",
              "       2.37987255e+031, 3.29305867e+032, 4.55664543e+033, 6.30508583e+034,\n",
              "       8.72442414e+035, 1.20720920e+037, 1.67043009e+038, 2.31139449e+039,\n",
              "       3.19830473e+040, 4.42553325e+041, 6.12366432e+042, 8.47338897e+043,\n",
              "       1.17247316e+045, 1.62236541e+046, 2.24488680e+047, 3.10627723e+048,\n",
              "       4.29819368e+049, 5.94746299e+050, 8.22957705e+051, 1.13873661e+053,\n",
              "       1.57568373e+054, 2.18029279e+055, 3.01689771e+056, 4.17451815e+057,\n",
              "       5.77633166e+058, 7.99278054e+059, 1.10597079e+061, 1.53034526e+062,\n",
              "       2.11755740e+063, 2.93008999e+064, 4.05440124e+065, 5.61012443e+066,\n",
              "       7.76279757e+067, 1.07414776e+069, 1.48631136e+070, 2.05662715e+071,\n",
              "       2.84578005e+072, 3.93774056e+073, 5.44869962e+074, 7.53943209e+075,\n",
              "       1.04324041e+077, 1.44354447e+078, 1.99745009e+079, 2.76389604e+080,\n",
              "       3.82443665e+081, 5.29191962e+082, 7.32249369e+083, 1.01322238e+085,\n",
              "       1.40200816e+086, 1.93997578e+087, 2.68436814e+088, 3.71439293e+089,\n",
              "       5.13965078e+090, 7.11179745e+091, 9.84068084e+092, 1.36166700e+094,\n",
              "       1.88415524e+095, 2.60712857e+096, 3.60751559e+097, 4.99176330e+098,\n",
              "       6.90716374e+099, 9.55752668e+100, 1.32248662e+102, 1.82994086e+103,\n",
              "       2.53211148e+104, 3.50371352e+105, 4.84813112e+106, 6.70841813e+107,\n",
              "       9.28251996e+108, 1.28443360e+110, 1.77728644e+111, 2.45925291e+112,\n",
              "       3.40289824e+113, 4.70863178e+114, 6.51539120e+115, 9.01542624e+116,\n",
              "       1.24747552e+118, 1.72614709e+119, 2.38849077e+120, 3.30498380e+121,\n",
              "       4.57314637e+122, 6.32791839e+123, 8.75601782e+124, 1.21158086e+126,\n",
              "       1.67647921e+127, 2.31976472e+128, 3.20988673e+129, 4.44155940e+130,\n",
              "       6.14583989e+131, 8.50407359e+132, 1.17671903e+134, 1.62824047e+135,\n",
              "       2.25301619e+136, 3.11752597e+137, 4.31375869e+138, 5.96900049e+139,\n",
              "       8.25937875e+140, 1.14286031e+142, 1.58138974e+143, 2.18818827e+144,\n",
              "       3.02782278e+145, 4.18963530e+146, 5.79724944e+147, 8.02172473e+148,\n",
              "       1.10997583e+150, 1.53588709e+151, 2.12522569e+152, 2.94070070e+153,\n",
              "       4.06908341e+154, 5.63044033e+155, 7.79090892e+156, 1.07803757e+158,\n",
              "       1.49169372e+159, 2.06407479e+160, 2.85608545e+161, 3.95200026e+162,\n",
              "       5.46843095e+163, 7.56673457e+164, 1.04701829e+166, 1.44877197e+167,\n",
              "       2.00468344e+168, 2.77390492e+169, 3.83828605e+170, 5.31108320e+171,\n",
              "       7.34901058e+172, 1.01689155e+174, 1.40708524e+175, 1.94700100e+176,\n",
              "       2.69408903e+177, 3.72784383e+178, 5.15826296e+179, 7.13755134e+180,\n",
              "       9.87631681e+181, 1.36659800e+183, 1.89097831e+184, 2.61656974e+185,\n",
              "       3.62057946e+186, 5.00983994e+187, 6.93217660e+188, 9.59213728e+189,\n",
              "       1.32727573e+191, 1.83656761e+192, 2.54128099e+193, 3.51640149e+194,\n",
              "       4.86568761e+195, 6.73271127e+196, 9.31613467e+197, 1.28908491e+199,\n",
              "       1.78372251e+200, 2.46815858e+201, 3.41522112e+202, 4.72568311e+203,\n",
              "       6.53898533e+204, 9.04807373e+205, 1.25199299e+207, 1.73239797e+208,\n",
              "       2.39714019e+209, 3.31695211e+210, 4.58970707e+211, 6.35083363e+212,\n",
              "       8.78772592e+213, 1.21596835e+215, 1.68255023e+216, 2.32816527e+217,\n",
              "       3.22151066e+218, 4.45764358e+219, 6.16809577e+220, 8.53486932e+221,\n",
              "       1.18098027e+223, 1.63413680e+224, 2.26117502e+225, 3.12881544e+226,\n",
              "       4.32938007e+227, 5.99061598e+228, 8.28928838e+229, 1.14699894e+231,\n",
              "       1.58711642e+232, 2.19611233e+233, 3.03878741e+234, 4.20480719e+235,\n",
              "       5.81824297e+236, 8.05077374e+237, 1.11399538e+239, 1.54144899e+240,\n",
              "       2.13292175e+241, 2.95134984e+242, 4.08381875e+243, 5.65082979e+244,\n",
              "       7.81912208e+245, 1.08194146e+247, 1.49709558e+248, 2.07154941e+249,\n",
              "       2.86642817e+250, 3.96631161e+251, 5.48823373e+252, 7.59413593e+253,\n",
              "       1.05080985e+255, 1.45401840e+256, 2.01194298e+257, 2.78395003e+258,\n",
              "       3.85218560e+259, 5.33031619e+260, 7.37562349e+261, 1.02057402e+263,\n",
              "       1.41218071e+264, 1.95405166e+265, 2.70384511e+266, 3.74134344e+267,\n",
              "       5.17694253e+268, 7.16339850e+269, 9.91208184e+270, 1.37154685e+272,\n",
              "       1.89782610e+273, 2.62604511e+274, 3.63369063e+275, 5.02798203e+276,\n",
              "       6.95728003e+277, 9.62687320e+278, 1.33208218e+280, 1.84321836e+281,\n",
              "       2.55048371e+282, 3.52913541e+283, 4.88330769e+284, 6.75709239e+285,\n",
              "       9.34987112e+286, 1.29375307e+288, 1.79018189e+289, 2.47709651e+290,\n",
              "       3.42758864e+291, 4.74279619e+292, 6.56266491e+293, 9.08083944e+294,\n",
              "       1.25652682e+296, 1.73867149e+297, 2.40582093e+298, 3.32896376e+299,\n",
              "       4.60632774e+300, 6.37383185e+301, 8.81954884e+302, 1.22037173e+304,\n",
              "       1.68864324e+305,             inf,             inf,             inf,\n",
              "                   inf,             inf,             inf,             inf,\n",
              "                   inf,             inf,             inf,             inf,\n",
              "                   inf,             inf,             inf,             inf,\n",
              "                   inf,             inf,             inf,             inf,\n",
              "                   inf,             inf,             inf,             inf,\n",
              "                   inf,             inf,             inf,             inf,\n",
              "                   inf,             inf,             inf,             inf,\n",
              "                   inf,             inf,             inf,             inf,\n",
              "                   inf,             inf,             inf,             inf,\n",
              "                   inf,             inf,             inf,             inf,\n",
              "                   inf,             inf,             inf,             inf,\n",
              "                   inf,             inf,             inf,             inf,\n",
              "                   inf,             inf,             inf,             inf,\n",
              "                   inf,             inf,             inf,             inf,\n",
              "                   inf,             inf,             inf,             inf,\n",
              "                   inf,             inf,             inf,             inf,\n",
              "                   inf,             inf,             inf,             inf,\n",
              "                   inf,             inf,             inf,             inf,\n",
              "                   inf,             inf,             inf,             inf,\n",
              "                   inf,             inf,             inf,             inf,\n",
              "                   inf,             inf,             inf,             inf,\n",
              "                   inf,             inf,             inf,             inf,\n",
              "                   inf,             inf,             inf,             inf,\n",
              "                   inf,             inf,             inf,             inf,\n",
              "                   inf,             inf,             inf,             inf,\n",
              "                   inf,             inf,             inf,             inf,\n",
              "                   inf,             inf,             inf,             inf,\n",
              "                   inf,             inf,             inf,             inf,\n",
              "                   inf,             inf,             inf,             inf,\n",
              "                   inf,             inf,             inf,             inf,\n",
              "                   inf,             inf,             inf,             inf,\n",
              "                   inf,             inf,             inf,             inf,\n",
              "                   inf,             inf,             inf,             inf,\n",
              "                   inf,             inf,             inf,             inf,\n",
              "                   inf,             inf,             inf,             inf,\n",
              "                   inf,             inf,             inf,             inf,\n",
              "                   inf,             inf,             inf,             inf,\n",
              "                   inf,             inf,             inf,             inf,\n",
              "                   inf,             inf,             inf,             inf,\n",
              "                   inf,             inf,             inf,             inf,\n",
              "                   inf,             inf,             inf,             inf,\n",
              "                   inf,             inf,             inf,             inf,\n",
              "                   inf,             inf,             inf,             inf,\n",
              "                   inf,             inf,             inf,             inf,\n",
              "                   inf,             inf,             inf,             inf,\n",
              "                   inf,             inf,             inf,             inf,\n",
              "                   inf,             inf,             inf,             inf,\n",
              "                   inf,             inf,             inf,             inf,\n",
              "                   inf,             inf,             inf,             inf,\n",
              "                   inf,             inf,             inf,             inf,\n",
              "                   inf,             inf,             inf,             inf,\n",
              "                   inf,             inf,             inf,             inf,\n",
              "                   inf,             inf,             inf,             inf,\n",
              "                   inf,             inf,             inf,             inf,\n",
              "                   inf,             inf,             inf,             inf,\n",
              "                   inf,             inf,             inf,             inf,\n",
              "                   inf,             inf,             inf,             inf,\n",
              "                   inf,             inf,             inf,             inf,\n",
              "                   inf,             inf,             inf,             inf,\n",
              "                   inf,             inf,             inf,             inf,\n",
              "                   inf,             inf,             inf,             inf,\n",
              "                   inf,             inf,             inf,             inf,\n",
              "                   inf,             inf,             inf,             inf,\n",
              "                   inf,             inf,             inf,             inf,\n",
              "                   inf,             inf,             inf,             inf,\n",
              "                   inf,             inf,             inf,             inf,\n",
              "                   inf,             nan,             nan,             nan,\n",
              "                   nan,             nan,             nan,             nan,\n",
              "                   nan,             nan,             nan,             nan,\n",
              "                   nan,             nan,             nan,             nan,\n",
              "                   nan,             nan,             nan,             nan,\n",
              "                   nan,             nan,             nan,             nan,\n",
              "                   nan,             nan,             nan,             nan,\n",
              "                   nan,             nan,             nan,             nan,\n",
              "                   nan,             nan,             nan,             nan,\n",
              "                   nan,             nan,             nan,             nan,\n",
              "                   nan,             nan,             nan,             nan,\n",
              "                   nan,             nan,             nan,             nan,\n",
              "                   nan,             nan,             nan,             nan,\n",
              "                   nan,             nan,             nan,             nan,\n",
              "                   nan,             nan,             nan,             nan,\n",
              "                   nan,             nan,             nan,             nan,\n",
              "                   nan,             nan,             nan,             nan,\n",
              "                   nan,             nan,             nan,             nan,\n",
              "                   nan,             nan,             nan,             nan,\n",
              "                   nan,             nan,             nan,             nan,\n",
              "                   nan,             nan,             nan,             nan,\n",
              "                   nan,             nan,             nan,             nan,\n",
              "                   nan,             nan,             nan,             nan,\n",
              "                   nan,             nan,             nan,             nan,\n",
              "                   nan,             nan,             nan,             nan,\n",
              "                   nan,             nan,             nan,             nan,\n",
              "                   nan,             nan,             nan,             nan,\n",
              "                   nan,             nan,             nan,             nan,\n",
              "                   nan,             nan,             nan,             nan,\n",
              "                   nan,             nan,             nan,             nan,\n",
              "                   nan,             nan,             nan,             nan,\n",
              "                   nan,             nan,             nan,             nan,\n",
              "                   nan,             nan,             nan,             nan,\n",
              "                   nan,             nan,             nan,             nan,\n",
              "                   nan,             nan,             nan,             nan,\n",
              "                   nan,             nan,             nan,             nan,\n",
              "                   nan,             nan,             nan,             nan,\n",
              "                   nan,             nan,             nan,             nan,\n",
              "                   nan,             nan,             nan,             nan,\n",
              "                   nan,             nan,             nan,             nan,\n",
              "                   nan,             nan,             nan,             nan,\n",
              "                   nan,             nan,             nan,             nan,\n",
              "                   nan,             nan,             nan,             nan,\n",
              "                   nan,             nan,             nan,             nan,\n",
              "                   nan,             nan,             nan,             nan,\n",
              "                   nan,             nan,             nan,             nan,\n",
              "                   nan,             nan,             nan,             nan,\n",
              "                   nan,             nan,             nan,             nan,\n",
              "                   nan,             nan,             nan,             nan,\n",
              "                   nan,             nan,             nan,             nan,\n",
              "                   nan,             nan,             nan,             nan,\n",
              "                   nan,             nan,             nan,             nan,\n",
              "                   nan,             nan,             nan,             nan,\n",
              "                   nan,             nan,             nan,             nan,\n",
              "                   nan,             nan,             nan,             nan,\n",
              "                   nan,             nan,             nan,             nan,\n",
              "                   nan,             nan,             nan,             nan,\n",
              "                   nan,             nan,             nan,             nan,\n",
              "                   nan,             nan,             nan,             nan,\n",
              "                   nan,             nan,             nan,             nan,\n",
              "                   nan,             nan,             nan,             nan,\n",
              "                   nan,             nan,             nan,             nan,\n",
              "                   nan,             nan,             nan,             nan,\n",
              "                   nan,             nan,             nan,             nan,\n",
              "                   nan,             nan,             nan,             nan,\n",
              "                   nan,             nan,             nan,             nan,\n",
              "                   nan,             nan,             nan,             nan,\n",
              "                   nan,             nan,             nan,             nan,\n",
              "                   nan,             nan,             nan,             nan,\n",
              "                   nan,             nan,             nan,             nan,\n",
              "                   nan,             nan,             nan,             nan,\n",
              "                   nan,             nan,             nan,             nan,\n",
              "                   nan,             nan,             nan,             nan,\n",
              "                   nan,             nan,             nan,             nan,\n",
              "                   nan,             nan,             nan,             nan,\n",
              "                   nan,             nan,             nan,             nan,\n",
              "                   nan,             nan,             nan,             nan,\n",
              "                   nan,             nan,             nan,             nan,\n",
              "                   nan,             nan,             nan,             nan,\n",
              "                   nan,             nan,             nan,             nan,\n",
              "                   nan,             nan,             nan,             nan,\n",
              "                   nan,             nan,             nan,             nan,\n",
              "                   nan,             nan,             nan,             nan,\n",
              "                   nan,             nan,             nan,             nan,\n",
              "                   nan,             nan,             nan,             nan,\n",
              "                   nan,             nan,             nan,             nan,\n",
              "                   nan,             nan,             nan,             nan,\n",
              "                   nan,             nan,             nan,             nan,\n",
              "                   nan,             nan,             nan,             nan,\n",
              "                   nan,             nan,             nan,             nan,\n",
              "                   nan,             nan,             nan,             nan,\n",
              "                   nan,             nan,             nan,             nan,\n",
              "                   nan,             nan,             nan,             nan,\n",
              "                   nan,             nan,             nan,             nan,\n",
              "                   nan,             nan,             nan,             nan,\n",
              "                   nan,             nan,             nan,             nan,\n",
              "                   nan,             nan,             nan,             nan,\n",
              "                   nan,             nan,             nan,             nan,\n",
              "                   nan,             nan,             nan,             nan,\n",
              "                   nan,             nan,             nan,             nan,\n",
              "                   nan,             nan,             nan,             nan,\n",
              "                   nan,             nan,             nan,             nan,\n",
              "                   nan,             nan,             nan,             nan,\n",
              "                   nan,             nan,             nan,             nan,\n",
              "                   nan,             nan,             nan,             nan,\n",
              "                   nan,             nan,             nan,             nan,\n",
              "                   nan,             nan,             nan,             nan,\n",
              "                   nan,             nan,             nan,             nan,\n",
              "                   nan,             nan,             nan,             nan,\n",
              "                   nan,             nan,             nan,             nan,\n",
              "                   nan,             nan,             nan,             nan,\n",
              "                   nan,             nan,             nan,             nan,\n",
              "                   nan,             nan,             nan,             nan,\n",
              "                   nan,             nan,             nan,             nan,\n",
              "                   nan,             nan,             nan,             nan,\n",
              "                   nan,             nan,             nan,             nan,\n",
              "                   nan,             nan,             nan,             nan])"
            ]
          },
          "metadata": {},
          "execution_count": 115
        }
      ],
      "source": [
        "cost_history # l'historique de la fonction coût qu'on va afficher par la suite. on remarque que sa valeur déminue et c'est ça l'objectif"
      ]
    },
    {
      "cell_type": "code",
      "execution_count": 110,
      "metadata": {
        "colab": {
          "base_uri": "https://localhost:8080/"
        },
        "id": "71ae7b0a",
        "outputId": "65ac978f-6a98-4101-bd7e-e090194fef77"
      },
      "outputs": [
        {
          "output_type": "execute_result",
          "data": {
            "text/plain": [
              "array([[nan],\n",
              "       [nan],\n",
              "       [nan]])"
            ]
          },
          "metadata": {},
          "execution_count": 110
        }
      ],
      "source": [
        "theta_final # voici les parametres du modele une fois que la machine a été entrainée"
      ]
    },
    {
      "cell_type": "code",
      "execution_count": 111,
      "metadata": {
        "colab": {
          "base_uri": "https://localhost:8080/",
          "height": 452
        },
        "id": "606bfc53",
        "outputId": "c2dc74a9-0ce7-4fd0-eb0e-9d8507ef6bc1"
      },
      "outputs": [
        {
          "output_type": "display_data",
          "data": {
            "text/plain": [
              "<Figure size 640x480 with 1 Axes>"
            ],
            "image/png": "[encoded data removed]"
          },
          "metadata": {}
        }
      ],
      "source": [
        "# création d'un vecteur prédictions qui contient les prédictions de notre modele final\n",
        "predictions = model(X, theta_final)\n",
        "\n",
        "# Affichage des résultats de prédictions (en rouge) par rapport a notre Dataset (en bleu)\n",
        "plt.plot(x,y,'o',label='dataset')\n",
        "plt.plot(x,predictions , c='r',label='prédictions')\n",
        "plt.xlabel('petal_length')\n",
        "plt.ylabel('petal_width')\n",
        "plt.legend()\n",
        "plt.show()"
      ]
    },
    {
      "cell_type": "code",
      "execution_count": 112,
      "metadata": {
        "colab": {
          "base_uri": "https://localhost:8080/",
          "height": 296
        },
        "id": "415ab0a8",
        "outputId": "40ce9f5d-a1ea-4c12-d0d0-555411f0b3e8"
      },
      "outputs": [
        {
          "output_type": "error",
          "ename": "ValueError",
          "evalue": "ignored",
          "traceback": [
            "\u001b[0;31m---------------------------------------------------------------------------\u001b[0m",
            "\u001b[0;31mValueError\u001b[0m                                Traceback (most recent call last)",
            "\u001b[0;32m<ipython-input-112-b10cb997c290>\u001b[0m in \u001b[0;36m<cell line: 3>\u001b[0;34m()\u001b[0m\n\u001b[1;32m      1\u001b[0m \u001b[0;31m# Test: # prédire la largeur d'un pétale qui a une longueur de 2,5 cm\u001b[0m\u001b[0;34m\u001b[0m\u001b[0;34m\u001b[0m\u001b[0m\n\u001b[1;32m      2\u001b[0m \u001b[0mX_2_5\u001b[0m\u001b[0;34m=\u001b[0m \u001b[0mnp\u001b[0m\u001b[0;34m.\u001b[0m\u001b[0marray\u001b[0m\u001b[0;34m(\u001b[0m\u001b[0;34m[\u001b[0m\u001b[0;36m1\u001b[0m\u001b[0;34m,\u001b[0m \u001b[0;36m2.5\u001b[0m\u001b[0;34m]\u001b[0m\u001b[0;34m)\u001b[0m\u001b[0;34m\u001b[0m\u001b[0;34m\u001b[0m\u001b[0m\n\u001b[0;32m----> 3\u001b[0;31m \u001b[0mpred_y_2_5\u001b[0m\u001b[0;34m=\u001b[0m\u001b[0mmodel\u001b[0m\u001b[0;34m(\u001b[0m\u001b[0mX_2_5\u001b[0m\u001b[0;34m,\u001b[0m \u001b[0mtheta_final\u001b[0m\u001b[0;34m)\u001b[0m\u001b[0;34m\u001b[0m\u001b[0;34m\u001b[0m\u001b[0m\n\u001b[0m\u001b[1;32m      4\u001b[0m \u001b[0mprint\u001b[0m\u001b[0;34m(\u001b[0m\u001b[0mpred_y_2_5\u001b[0m\u001b[0;34m)\u001b[0m\u001b[0;34m\u001b[0m\u001b[0;34m\u001b[0m\u001b[0m\n",
            "\u001b[0;32m<ipython-input-102-56351e8ffc8e>\u001b[0m in \u001b[0;36mmodel\u001b[0;34m(X, theta)\u001b[0m\n\u001b[1;32m      1\u001b[0m \u001b[0;32mdef\u001b[0m \u001b[0mmodel\u001b[0m\u001b[0;34m(\u001b[0m\u001b[0mX\u001b[0m\u001b[0;34m,\u001b[0m \u001b[0mtheta\u001b[0m\u001b[0;34m)\u001b[0m\u001b[0;34m:\u001b[0m\u001b[0;34m\u001b[0m\u001b[0;34m\u001b[0m\u001b[0m\n\u001b[0;32m----> 2\u001b[0;31m     \u001b[0;32mreturn\u001b[0m \u001b[0mX\u001b[0m\u001b[0;34m.\u001b[0m\u001b[0mdot\u001b[0m\u001b[0;34m(\u001b[0m\u001b[0mtheta\u001b[0m\u001b[0;34m)\u001b[0m\u001b[0;34m\u001b[0m\u001b[0;34m\u001b[0m\u001b[0m\n\u001b[0m",
            "\u001b[0;31mValueError\u001b[0m: shapes (2,) and (3,1) not aligned: 2 (dim 0) != 3 (dim 0)"
          ]
        }
      ],
      "source": [
        "# Test: # prédire la largeur d'un pétale qui a une longueur de 2,5 cm\n",
        "X_2_5= np.array([1, 2.5])\n",
        "pred_y_2_5=model(X_2_5, theta_final) \n",
        "print(pred_y_2_5)"
      ]
    },
    {
      "cell_type": "markdown",
      "metadata": {
        "id": "3d087de6"
      },
      "source": [
        "## 6. Courbe d'apprentissage\n",
        "\n",
        "   Pour vérifier si notre algorithme de Descente de gradient a bien fonctionné, on observe l'évolution de la fonction cout a travers les itérations. On est sensé obtenir une courbe qui diminue a chaque itération jusqu'a stagner a un niveau minimal (proche de zéro). Si la courbe ne suit pas ce motif, alors le pas learning_rate est peut-etre trop élevé, il faut prendre un pas plus faible."
      ]
    },
    {
      "cell_type": "code",
      "execution_count": null,
      "metadata": {
        "id": "519d3dbd"
      },
      "outputs": [],
      "source": [
        "plt.plot(range(n_iterations), cost_history)\n",
        "plt.show()"
      ]
    },
    {
      "cell_type": "markdown",
      "metadata": {
        "id": "eb5cab7c"
      },
      "source": [
        "## 7. Evaluation du modèle - Coefficient de détermination\n",
        "\n",
        "   Le coefficient de détermination est un indice de la qualité de la prédiction de la régression linéaire. Le coefficient de détermination se situe entre 0 et 1. Plus il est proche de 1, plus la régression linéaire est en adéquation avec les données collectées"
      ]
    },
    {
      "cell_type": "markdown",
      "metadata": {
        "id": "cc10bb18"
      },
      "source": [
        "![Capture%20d'%C3%A9cran%202023-04-04%20123236.png](attachment:Capture%20d'%C3%A9cran%202023-04-04%20123236.png)"
      ]
    },
    {
      "cell_type": "code",
      "execution_count": null,
      "metadata": {
        "id": "ea8f0458"
      },
      "outputs": [],
      "source": [
        "def coef_determination(y, pred):\n",
        "    u = ((y - pred)**2).sum()\n",
        "    v = ((y - y.mean())**2).sum()\n",
        "    return 1 - u/v"
      ]
    },
    {
      "cell_type": "code",
      "execution_count": null,
      "metadata": {
        "id": "406b1dfe"
      },
      "outputs": [],
      "source": [
        "coef_determination(y, predictions)"
      ]
    }
  ]
}